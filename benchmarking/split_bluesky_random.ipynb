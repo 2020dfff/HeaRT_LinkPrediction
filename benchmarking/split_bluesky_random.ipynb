{
 "cells": [
  {
   "cell_type": "markdown",
   "metadata": {},
   "source": [
    "# 0. Data Preview"
   ]
  },
  {
   "cell_type": "code",
   "execution_count": 2,
   "metadata": {},
   "outputs": [
    {
     "name": "stderr",
     "output_type": "stream",
     "text": [
      "/Users/sharkiefff/anaconda3/envs/graph/lib/python3.8/site-packages/tqdm/auto.py:22: TqdmWarning: IProgress not found. Please update jupyter and ipywidgets. See https://ipywidgets.readthedocs.io/en/stable/user_install.html\n",
      "  from .autonotebook import tqdm as notebook_tqdm\n"
     ]
    }
   ],
   "source": [
    "import numpy as np\n",
    "import matplotlib.pyplot as plt\n",
    "import pickle\n",
    "import json\n",
    "import os\n",
    "import random\n",
    "import sys\n",
    "import torch\n",
    "import json\n",
    "import hashlib\n",
    "from sklearn.feature_extraction.text import TfidfVectorizer\n",
    "from transformers import AutoTokenizer, AutoModel\n",
    "from torch_geometric.utils import coalesce, to_undirected"
   ]
  },
  {
   "cell_type": "code",
   "execution_count": 3,
   "metadata": {},
   "outputs": [
    {
     "name": "stdout",
     "output_type": "stream",
     "text": [
      "============\n",
      "train_edges <class 'list'>\n",
      "17409\n",
      "============\n",
      "valid_edges <class 'list'>\n",
      "1088\n",
      "============\n",
      "test_positive_edges <class 'list'>\n",
      "3265\n",
      "============\n",
      "test_negative_edges <class 'list'>\n",
      "15013\n"
     ]
    }
   ],
   "source": [
    "# load the data from data1 folder\n",
    "path = '../dataset/random_bluesky/edge_sets_random.json'\n",
    "bluesky_data = json.load(open(path, 'r'))\n",
    "\n",
    "# get the keys and values\n",
    "for key in bluesky_data.keys():\n",
    "    print(\"============\")\n",
    "    print(key, type(bluesky_data[key]))\n",
    "    # and value shape\n",
    "    if isinstance(bluesky_data[key], list):\n",
    "        print(len(bluesky_data[key]))\n",
    "    elif isinstance(bluesky_data[key], dict):\n",
    "        print(bluesky_data[key].keys())"
   ]
  },
  {
   "cell_type": "markdown",
   "metadata": {},
   "source": [
    "# 1. Split Data"
   ]
  },
  {
   "cell_type": "code",
   "execution_count": 4,
   "metadata": {},
   "outputs": [],
   "source": [
    "def save(file_name, data_name, edge):\n",
    "    with open('../dataset/' + data_name + '/' + file_name+ '.txt', 'w') as f:\n",
    "        for i in range(edge.size(1)):\n",
    "            s, t = edge[0][i].item(), edge[1][i].item()\n",
    "            f.write(str(s)+'\\t'+str(t) +'\\n')\n",
    "            f.flush()\n",
    "\n",
    "def load_json_data(file_path):\n",
    "    with open(file_path, 'r') as f:\n",
    "        data = json.load(f)\n",
    "    return data"
   ]
  },
  {
   "cell_type": "code",
   "execution_count": 5,
   "metadata": {},
   "outputs": [
    {
     "name": "stdout",
     "output_type": "stream",
     "text": [
      "Number of nodes: 52488, Number of edges: 21762\n",
      "3265 15013\n"
     ]
    }
   ],
   "source": [
    "data_name = 'random_bluesky'\n",
    "\n",
    "train_pos, valid_pos, test_pos, test_neg = [], [], [], []\n",
    "node_set = set()\n",
    "\n",
    "data = load_json_data(path)\n",
    "for edge in data['train_edges']:\n",
    "    train_pos.append((edge[0], edge[1]))\n",
    "    node_set.add(edge[0])\n",
    "    node_set.add(edge[1])\n",
    "for edge in data['valid_edges']:\n",
    "    valid_pos.append((edge[0], edge[1]))\n",
    "    node_set.add(edge[0])\n",
    "    node_set.add(edge[1])\n",
    "for edge in data['test_positive_edges']:\n",
    "    test_pos.append((edge[0], edge[1]))\n",
    "    node_set.add(edge[0])\n",
    "    node_set.add(edge[1])\n",
    "for edge in data['test_negative_edges']:\n",
    "    test_neg.append((edge[0], edge[1])) # need to comment it if shuffle the test data\n",
    "    node_set.add(edge[0])\n",
    "    node_set.add(edge[1])\n",
    "\n",
    "num_nodes = len(node_set)\n",
    "print('Number of nodes: {}, Number of edges: {}'.format(num_nodes, len(train_pos) + len(valid_pos) + len(test_pos)))\n",
    "print(len(test_pos), len(test_neg))\n"
   ]
  },
  {
   "cell_type": "code",
   "execution_count": 6,
   "metadata": {},
   "outputs": [],
   "source": [
    "# re-index the nodes\n",
    "node_list = list(node_set)\n",
    "node_list.sort()\n",
    "node_map = {node_list[i]: i for i in range(num_nodes)}\n",
    "train_pos = [(node_map[u], node_map[v]) for u, v in train_pos]\n",
    "valid_pos = [(node_map[u], node_map[v]) for u, v in valid_pos]\n",
    "test_pos = [(node_map[u], node_map[v]) for u, v in test_pos]\n",
    "test_neg = [(node_map[u], node_map[v]) for u, v in test_neg]\n"
   ]
  },
  {
   "cell_type": "code",
   "execution_count": 7,
   "metadata": {},
   "outputs": [
    {
     "name": "stdout",
     "output_type": "stream",
     "text": [
      "torch.Size([120090, 1536])\n",
      "Node feature shape: torch.Size([52488, 1536])\n"
     ]
    }
   ],
   "source": [
    "# select the node feature for the nodes in the original node_set\n",
    "# but save the new node index with their feature\n",
    "node_features = torch.load('../dataset/bluesky' + '/gnn_feature.pt')\n",
    "print(node_features.size())\n",
    "\n",
    "new_node_features = torch.zeros(num_nodes, node_features.size(1))\n",
    "for i in range(num_nodes):\n",
    "    new_node_features[i] = node_features[node_list[i]]\n",
    "node_features = new_node_features\n",
    "torch.save(node_features, '../dataset/' + data_name + '/gnn_feature.pt')\n",
    "\n",
    "print('Node feature shape:', node_features.size())"
   ]
  },
  {
   "cell_type": "code",
   "execution_count": 8,
   "metadata": {},
   "outputs": [],
   "source": [
    "train_pos_tensor = torch.transpose(torch.tensor(train_pos), 1, 0)\n",
    "valid_pos_tensor = torch.transpose(torch.tensor(valid_pos), 1, 0)\n",
    "test_pos_tensor = torch.transpose(torch.tensor(test_pos), 1, 0)\n",
    "test_neg_tensor = torch.transpose(torch.tensor(test_neg), 1, 0)\n",
    "\n",
    "edge_index = torch.cat((train_pos_tensor, train_pos_tensor[[1, 0]]), dim=1)\n",
    "edge_index = to_undirected(edge_index)\n",
    "edge_index = coalesce(edge_index)\n",
    "\n",
    "nodenum = num_nodes\n",
    "\n",
    "save('train_pos', data_name, train_pos_tensor)\n",
    "save('valid_pos', data_name, valid_pos_tensor)\n",
    "save('test_pos', data_name, test_pos_tensor)\n",
    "save('test_neg', data_name, test_neg_tensor)"
   ]
  },
  {
   "cell_type": "code",
   "execution_count": 9,
   "metadata": {},
   "outputs": [],
   "source": [
    "def generate_negatives(pos_tensor, edge_dict, node_indices):\n",
    "    neg = []\n",
    "    for i in range(pos_tensor.size(1)):\n",
    "        src = random.choice(node_indices)\n",
    "        dst = random.choice(node_indices)\n",
    "        while dst in edge_dict[src] or src in edge_dict[dst]:\n",
    "            src = random.choice(node_indices)\n",
    "            dst = random.choice(node_indices)\n",
    "        neg.append([src, dst])\n",
    "    return torch.tensor(neg).t()\n",
    "    \n",
    "edge_dict = {i: set() for i in node_map.values()}\n",
    "for u, v in train_pos + valid_pos + test_pos:\n",
    "    edge_dict[u].add(v)\n",
    "    edge_dict[v].add(u)\n",
    "node_indices = list(node_map.values())\n",
    "\n",
    "valid_neg_tensor = generate_negatives(valid_pos_tensor, edge_dict, node_indices)\n",
    "# test_neg_tensor = generate_negatives(test_pos_tensor, edge_dict, node_indices)\n",
    "\n",
    "save('valid_neg', data_name, valid_neg_tensor)\n"
   ]
  }
 ],
 "metadata": {
  "kernelspec": {
   "display_name": "graph",
   "language": "python",
   "name": "python3"
  },
  "language_info": {
   "codemirror_mode": {
    "name": "ipython",
    "version": 3
   },
   "file_extension": ".py",
   "mimetype": "text/x-python",
   "name": "python",
   "nbconvert_exporter": "python",
   "pygments_lexer": "ipython3",
   "version": "3.8.20"
  }
 },
 "nbformat": 4,
 "nbformat_minor": 2
}
